{
 "cells": [
  {
   "cell_type": "code",
   "execution_count": 1,
   "metadata": {},
   "outputs": [],
   "source": [
    "import eqop\n",
    "import sympy as sp\n",
    "import numpy as np\n",
    "import matplotlib.pyplot as plt\n",
    "from IPython.display import display, Latex"
   ]
  },
  {
   "cell_type": "code",
   "execution_count": 2,
   "metadata": {},
   "outputs": [],
   "source": [
    "z, Ho, k, delta, Zo, Zf, To, Tf, Ti, Tm, Zm, Zb, Tb, Qm, Qo, Qi, Zi, Hc, Huc, Hlc = sp.symbols(\n",
    "    'z, H_{0}, k, \\delta, Z_{0}, Z_{f}, T_{0}, T_{f}, T_{i}, T_{m}, Z_{m}, Z_{b}, T_{b}, Q_{m}, Q_{0}, Q_{i}, Z_{i}, H_{c}, H_{uc}, H_{lc}'\n",
    ")\n",
    "T, Q, H = sp.symbols('T, Q, H', cls=sp.Function)\n",
    "#sp.init_printing(latex_mode='equation*')\n",
    "sp.init_printing()"
   ]
  },
  {
   "cell_type": "code",
   "execution_count": 3,
   "metadata": {},
   "outputs": [],
   "source": [
    "substitutions_prev = {\n",
    "  Ho: 2.e-6,\n",
    "  k: 3.0,\n",
    "  delta: 15.e3,\n",
    "  Zo: 0,\n",
    "  Zf: 100.e3,\n",
    "  To: 0,\n",
    "  Tf: 1300,\n",
    "  Zm: 50.e3,\n",
    "  Zi: 15.e3,\n",
    "  Hlc: 2.e-7,\n",
    "  Huc: 2.e-6\n",
    "}"
   ]
  },
  {
   "cell_type": "code",
   "execution_count": 4,
   "metadata": {},
   "outputs": [],
   "source": [
    "substitutions = {\n",
    "  Ho: 3.e-6,\n",
    "  k: 3.0,\n",
    "  delta: 10.e3,\n",
    "  Zo: 0,\n",
    "  Zf: 100.e3,\n",
    "  To: 0,\n",
    "  Tf: 1300,\n",
    "  Zm: 50.e3,\n",
    "  Zi: 10.e3,\n",
    "  Hlc: 4.e-7,\n",
    "  Huc: 1.65e-6\n",
    "}"
   ]
  },
  {
   "cell_type": "code",
   "execution_count": 5,
   "metadata": {},
   "outputs": [],
   "source": [
    "domain = np.linspace(0,100.e3,101)"
   ]
  },
  {
   "cell_type": "code",
   "execution_count": 6,
   "metadata": {},
   "outputs": [],
   "source": [
    "def printeq(expr, number=None, text=\"eq.\"):\n",
    "    if number is not None:\n",
    "        result = \"$${} \\;({}{})$$\".format(sp.latex(expr), text, number)\n",
    "    else:\n",
    "        result = \"$${}$$\".format(sp.latex(expr))\n",
    "    display(Latex(result))"
   ]
  },
  {
   "cell_type": "markdown",
   "metadata": {},
   "source": [
    "<hr style=\"color:black\"/>"
   ]
  },
  {
   "cell_type": "markdown",
   "metadata": {},
   "source": [
    "# Ecuación de Calor"
   ]
  },
  {
   "cell_type": "code",
   "execution_count": 7,
   "metadata": {},
   "outputs": [
    {
     "data": {
      "text/latex": [
       "$$k \\frac{d^{2}}{d z^{2}} T{\\left(z \\right)} = - H{\\left(z \\right)} \\;(eq.0)$$"
      ],
      "text/plain": [
       "<IPython.core.display.Latex object>"
      ]
     },
     "metadata": {},
     "output_type": "display_data"
    }
   ],
   "source": [
    "Eq_0 = sp.Eq(k*T(z).diff(z,2), -H(z))\n",
    "printeq(Eq_0, 0)"
   ]
  },
  {
   "cell_type": "markdown",
   "metadata": {},
   "source": [
    "Condiciones de Borde Genrales"
   ]
  },
  {
   "cell_type": "markdown",
   "metadata": {},
   "source": [
    "1. Q = -Qm en z = Zm\\\n",
    "(Q = -Qm porque se asume que Qm fluye en la dirección negativa de z)"
   ]
  },
  {
   "cell_type": "code",
   "execution_count": 8,
   "metadata": {},
   "outputs": [
    {
     "data": {
      "text/latex": [
       "$$- k \\frac{d}{d Z_{m}} T{\\left(Z_{m} \\right)} = - Q_{m} \\;(cond.1)$$"
      ],
      "text/plain": [
       "<IPython.core.display.Latex object>"
      ]
     },
     "metadata": {},
     "output_type": "display_data"
    }
   ],
   "source": [
    "cond1 = sp.Eq(-k*T(Zm).diff(Zm), -Qm)\n",
    "printeq(cond1, 1, \"cond.\")"
   ]
  },
  {
   "cell_type": "markdown",
   "metadata": {},
   "source": [
    "2. T = Tm en z = Zm"
   ]
  },
  {
   "cell_type": "code",
   "execution_count": 9,
   "metadata": {},
   "outputs": [
    {
     "data": {
      "text/latex": [
       "$$T{\\left(Z_{m} \\right)} = T_{m} \\;(cond.2)$$"
      ],
      "text/plain": [
       "<IPython.core.display.Latex object>"
      ]
     },
     "metadata": {},
     "output_type": "display_data"
    }
   ],
   "source": [
    "cond2 = sp.Eq(T(Zm), Tm)\n",
    "printeq(cond2, 2, \"cond.\")"
   ]
  },
  {
   "cell_type": "markdown",
   "metadata": {},
   "source": [
    "<hr style=\"color:black\"/>"
   ]
  },
  {
   "cell_type": "markdown",
   "metadata": {},
   "source": [
    "## Ecuaciones en el Manto Litosférico"
   ]
  },
  {
   "cell_type": "markdown",
   "metadata": {},
   "source": [
    "Condiciones de borde del Manto Litosférico"
   ]
  },
  {
   "cell_type": "markdown",
   "metadata": {},
   "source": [
    "3. T = Tf en Z = Zf"
   ]
  },
  {
   "cell_type": "code",
   "execution_count": 10,
   "metadata": {},
   "outputs": [
    {
     "data": {
      "text/latex": [
       "$$T{\\left(Z_{f} \\right)} = T_{f} \\;(cond.3)$$"
      ],
      "text/plain": [
       "<IPython.core.display.Latex object>"
      ]
     },
     "metadata": {},
     "output_type": "display_data"
    }
   ],
   "source": [
    "cond3 = sp.Eq(T(Zf), Tf)\n",
    "printeq(cond3, 3, \"cond.\")"
   ]
  },
  {
   "cell_type": "markdown",
   "metadata": {},
   "source": [
    "La generación de calor en el manto es cero."
   ]
  },
  {
   "cell_type": "code",
   "execution_count": 11,
   "metadata": {},
   "outputs": [
    {
     "data": {
      "text/latex": [
       "$$H{\\left(z \\right)} = 0 \\;(eq.1)$$"
      ],
      "text/plain": [
       "<IPython.core.display.Latex object>"
      ]
     },
     "metadata": {},
     "output_type": "display_data"
    }
   ],
   "source": [
    "Eq_1 = sp.Eq(H(z), 0)\n",
    "printeq(Eq_1, 1)"
   ]
  },
  {
   "cell_type": "markdown",
   "metadata": {},
   "source": [
    "Reemplazando eq.1 en eq.0"
   ]
  },
  {
   "cell_type": "code",
   "execution_count": 12,
   "metadata": {},
   "outputs": [
    {
     "data": {
      "text/latex": [
       "$$k \\frac{d^{2}}{d z^{2}} T{\\left(z \\right)} = 0$$"
      ],
      "text/plain": [
       "<IPython.core.display.Latex object>"
      ]
     },
     "metadata": {},
     "output_type": "display_data"
    }
   ],
   "source": [
    "Heat_eq_mantle = Eq_0.subs(H(z), sp.solve(Eq_1, H(z))[0])\n",
    "printeq(Heat_eq_mantle)"
   ]
  },
  {
   "cell_type": "markdown",
   "metadata": {},
   "source": [
    "Integrando con respecto a dz en ambos lados de la ecuación"
   ]
  },
  {
   "cell_type": "code",
   "execution_count": 13,
   "metadata": {},
   "outputs": [
    {
     "data": {
      "text/latex": [
       "$$k \\frac{d}{d z} T{\\left(z \\right)} = C_{1}$$"
      ],
      "text/plain": [
       "<IPython.core.display.Latex object>"
      ]
     },
     "metadata": {},
     "output_type": "display_data"
    }
   ],
   "source": [
    "e = Heat_eq_mantle.bsop(lambda bs: sp.integrate(bs, z)) # integrar\n",
    "expr = e.rhsop(lambda rhs: rhs + sp.var('C1')) # sumar constante\n",
    "printeq(expr)"
   ]
  },
  {
   "cell_type": "markdown",
   "metadata": {},
   "source": [
    "Evaluando la expresión previa en z = Zm y luego reemplazando la Cond.1 en el resultado"
   ]
  },
  {
   "cell_type": "code",
   "execution_count": 14,
   "metadata": {},
   "outputs": [
    {
     "data": {
      "text/latex": [
       "$$Q_{m} = C_{1}$$"
      ],
      "text/plain": [
       "<IPython.core.display.Latex object>"
      ]
     },
     "metadata": {},
     "output_type": "display_data"
    }
   ],
   "source": [
    "e = cond1.bsop(lambda bs: bs*-1)\n",
    "e2 = expr.subs({z: Zm})\n",
    "expr2 = e2.subs({e2.lhs: sp.solve(e, e2.lhs)[0]})\n",
    "printeq(expr2)"
   ]
  },
  {
   "cell_type": "markdown",
   "metadata": {},
   "source": [
    "Combinando las dos expresiones previas"
   ]
  },
  {
   "cell_type": "code",
   "execution_count": 15,
   "metadata": {},
   "outputs": [
    {
     "data": {
      "text/latex": [
       "$$k \\frac{d}{d z} T{\\left(z \\right)} = Q_{m} \\;(eq.2)$$"
      ],
      "text/plain": [
       "<IPython.core.display.Latex object>"
      ]
     },
     "metadata": {},
     "output_type": "display_data"
    }
   ],
   "source": [
    "Eq_2 = expr.subs({'C1': sp.solve(expr2, 'C1')[0]})\n",
    "printeq(Eq_2,2)"
   ]
  },
  {
   "cell_type": "markdown",
   "metadata": {},
   "source": [
    "Integrando eq.2 dentro del manto litosférico"
   ]
  },
  {
   "cell_type": "code",
   "execution_count": 16,
   "metadata": {},
   "outputs": [
    {
     "data": {
      "text/latex": [
       "$$k T{\\left(Z_{f} \\right)} - k T{\\left(z \\right)} = Q_{m} Z_{f} - Q_{m} z$$"
      ],
      "text/plain": [
       "<IPython.core.display.Latex object>"
      ]
     },
     "metadata": {},
     "output_type": "display_data"
    }
   ],
   "source": [
    "expr = Eq_2.bsop(lambda bs: sp.integrate(bs,(z,z,Zf)))\n",
    "printeq(expr)"
   ]
  },
  {
   "cell_type": "markdown",
   "metadata": {},
   "source": [
    "Reemplazando la Cond.2 en la expresión previa"
   ]
  },
  {
   "cell_type": "code",
   "execution_count": 17,
   "metadata": {},
   "outputs": [
    {
     "data": {
      "text/latex": [
       "$$T{\\left(z \\right)} = - \\frac{Q_{m} Z_{f}}{k} + \\frac{Q_{m} z}{k} + T_{f} \\;(eq.3)$$"
      ],
      "text/plain": [
       "<IPython.core.display.Latex object>"
      ]
     },
     "metadata": {},
     "output_type": "display_data"
    }
   ],
   "source": [
    "e = expr.subs({T(Zf): sp.solve(cond3, T(Zf))[0]})\n",
    "Eq_3 = sp.Eq(T(z), sp.solve(e, T(z))[0])\n",
    "printeq(Eq_3.expand(),3)"
   ]
  },
  {
   "cell_type": "markdown",
   "metadata": {},
   "source": [
    "<hr style=\"color:black\"/>"
   ]
  },
  {
   "cell_type": "markdown",
   "metadata": {},
   "source": [
    "## Ecuaciones en la Corteza"
   ]
  },
  {
   "cell_type": "markdown",
   "metadata": {},
   "source": [
    "Condiciones de borde de la Corteza"
   ]
  },
  {
   "cell_type": "markdown",
   "metadata": {},
   "source": [
    "4. T = 0 en Z = 0"
   ]
  },
  {
   "cell_type": "code",
   "execution_count": 18,
   "metadata": {},
   "outputs": [
    {
     "data": {
      "text/latex": [
       "$$T{\\left(0 \\right)} = 0 \\;(cond.4)$$"
      ],
      "text/plain": [
       "<IPython.core.display.Latex object>"
      ]
     },
     "metadata": {},
     "output_type": "display_data"
    }
   ],
   "source": [
    "cond4 = sp.Eq(T(0), 0)\n",
    "printeq(cond4, 4, \"cond.\")"
   ]
  },
  {
   "cell_type": "markdown",
   "metadata": {},
   "source": [
    "<hr style=\"color:black\"/>"
   ]
  },
  {
   "cell_type": "markdown",
   "metadata": {},
   "source": [
    "### Modelo M1"
   ]
  },
  {
   "cell_type": "markdown",
   "metadata": {},
   "source": [
    "En el modelo M1, en la corteza la generación de calor decrece exponencialmente, desde un valor H0 en la superficie y con un factor de escala $\\delta$ "
   ]
  },
  {
   "cell_type": "code",
   "execution_count": 19,
   "metadata": {},
   "outputs": [
    {
     "data": {
      "text/latex": [
       "$$H{\\left(z \\right)} = H_{0} e^{- \\frac{z}{\\delta}} \\;(eq.4)$$"
      ],
      "text/plain": [
       "<IPython.core.display.Latex object>"
      ]
     },
     "metadata": {},
     "output_type": "display_data"
    }
   ],
   "source": [
    "Eq_4 = sp.Eq(H(z), Ho*sp.exp(-z/delta))\n",
    "printeq(Eq_4,4)"
   ]
  },
  {
   "cell_type": "markdown",
   "metadata": {},
   "source": [
    "Reemplazando la eq.4 en la eq.0"
   ]
  },
  {
   "cell_type": "code",
   "execution_count": 20,
   "metadata": {},
   "outputs": [
    {
     "data": {
      "text/latex": [
       "$$k \\frac{d^{2}}{d z^{2}} T{\\left(z \\right)} = - H_{0} e^{- \\frac{z}{\\delta}}$$"
      ],
      "text/plain": [
       "<IPython.core.display.Latex object>"
      ]
     },
     "metadata": {},
     "output_type": "display_data"
    }
   ],
   "source": [
    "Heat_eq_crust = Eq_0.subs({H(z): sp.solve(Eq_4, H(z))[0]})\n",
    "printeq(Heat_eq_crust)"
   ]
  },
  {
   "cell_type": "markdown",
   "metadata": {},
   "source": [
    "Integrando con respecto a dz"
   ]
  },
  {
   "cell_type": "code",
   "execution_count": 21,
   "metadata": {},
   "outputs": [
    {
     "data": {
      "text/latex": [
       "$$k \\frac{d}{d z} T{\\left(z \\right)} = C_{2} + H_{0} \\delta e^{- \\frac{z}{\\delta}} \\;(eq.5)$$"
      ],
      "text/plain": [
       "<IPython.core.display.Latex object>"
      ]
     },
     "metadata": {},
     "output_type": "display_data"
    }
   ],
   "source": [
    "e = Heat_eq_crust.bsop(lambda bs: sp.integrate(bs, z))\n",
    "Eq_5 = e.rhsop(lambda rhs: rhs + sp.var('C2'))\n",
    "printeq(Eq_5,5)"
   ]
  },
  {
   "cell_type": "markdown",
   "metadata": {},
   "source": [
    "Evaluando la eq.5 en z = Zm y reemplazando la cond.1 en el resultado"
   ]
  },
  {
   "cell_type": "code",
   "execution_count": 22,
   "metadata": {},
   "outputs": [
    {
     "data": {
      "text/latex": [
       "$$C_{2} = - H_{0} \\delta e^{- \\frac{Z_{m}}{\\delta}} + Q_{m} \\;(eq.6)$$"
      ],
      "text/plain": [
       "<IPython.core.display.Latex object>"
      ]
     },
     "metadata": {},
     "output_type": "display_data"
    }
   ],
   "source": [
    "e = Eq_5.subs({z: Zm})\n",
    "e = e.subs(e.lhs, sp.solve(cond1, e.lhs)[0])\n",
    "Eq_6 = sp.Eq(C2, sp.solve(e, 'C2')[0]) # TODO: Averiguar por qué puedo ocupar C2 si no lo he definido ??\n",
    "printeq(Eq_6,6)"
   ]
  },
  {
   "cell_type": "markdown",
   "metadata": {},
   "source": [
    "Reemplazando la eq.6 en la eq.5"
   ]
  },
  {
   "cell_type": "code",
   "execution_count": 23,
   "metadata": {},
   "outputs": [
    {
     "data": {
      "text/latex": [
       "$$k \\frac{d}{d z} T{\\left(z \\right)} = H_{0} \\delta e^{- \\frac{z}{\\delta}} - H_{0} \\delta e^{- \\frac{Z_{m}}{\\delta}} + Q_{m}$$"
      ],
      "text/plain": [
       "<IPython.core.display.Latex object>"
      ]
     },
     "metadata": {},
     "output_type": "display_data"
    }
   ],
   "source": [
    "expr = Eq_5.subs(C2, sp.solve(Eq_6, 'C2')[0])\n",
    "printeq(expr)"
   ]
  },
  {
   "cell_type": "markdown",
   "metadata": {},
   "source": [
    "Integrando la expresión anterior"
   ]
  },
  {
   "cell_type": "code",
   "execution_count": 24,
   "metadata": {},
   "outputs": [
    {
     "data": {
      "text/latex": [
       "$$T{\\left(z \\right)} = C_{3} - \\frac{H_{0} \\delta^{2} e^{- \\frac{z}{\\delta}}}{k} - \\frac{H_{0} \\delta z e^{- \\frac{Z_{m}}{\\delta}}}{k} + \\frac{Q_{m} z}{k} \\;(eq.7)$$"
      ],
      "text/plain": [
       "<IPython.core.display.Latex object>"
      ]
     },
     "metadata": {},
     "output_type": "display_data"
    }
   ],
   "source": [
    "e = expr.bsop(lambda bs: sp.integrate(bs, z))\n",
    "e = sp.Eq(T(z), sp.solve(e, T(z))[0])\n",
    "Eq_7 = e.rhsop(lambda rhs: rhs + sp.var('C3'))\n",
    "printeq(Eq_7,7)"
   ]
  },
  {
   "cell_type": "markdown",
   "metadata": {},
   "source": [
    "Evaluando la eq.7 en z = 0 y reemplazando la cond.4 en el resultado"
   ]
  },
  {
   "cell_type": "code",
   "execution_count": 25,
   "metadata": {},
   "outputs": [
    {
     "data": {
      "text/latex": [
       "$$C_{3} = \\frac{H_{0} \\delta^{2}}{k} \\;(eq.8)$$"
      ],
      "text/plain": [
       "<IPython.core.display.Latex object>"
      ]
     },
     "metadata": {},
     "output_type": "display_data"
    }
   ],
   "source": [
    "e = Eq_7.subs(z, 0)\n",
    "e = e.subs(T(0), sp.solve(cond4, T(0))[0])\n",
    "Eq_8 = sp.Eq(C3, sp.solve(e, 'C3')[0])\n",
    "printeq(Eq_8,8)"
   ]
  },
  {
   "cell_type": "markdown",
   "metadata": {},
   "source": [
    "Reemplazando la eq.8 en la eq.7"
   ]
  },
  {
   "cell_type": "code",
   "execution_count": 26,
   "metadata": {},
   "outputs": [
    {
     "data": {
      "text/latex": [
       "$$T{\\left(z \\right)} = \\frac{H_{0} \\delta^{2}}{k} - \\frac{H_{0} \\delta^{2} e^{- \\frac{z}{\\delta}}}{k} - \\frac{H_{0} \\delta z e^{- \\frac{Z_{m}}{\\delta}}}{k} + \\frac{Q_{m} z}{k} \\;(eq.9)$$"
      ],
      "text/plain": [
       "<IPython.core.display.Latex object>"
      ]
     },
     "metadata": {},
     "output_type": "display_data"
    }
   ],
   "source": [
    "Eq_9 = Eq_7.subs('C3', sp.solve(Eq_8, 'C3')[0])\n",
    "printeq(Eq_9,9)"
   ]
  },
  {
   "cell_type": "markdown",
   "metadata": {},
   "source": [
    "<hr style=\"color:black\"/>"
   ]
  },
  {
   "cell_type": "markdown",
   "metadata": {},
   "source": [
    "Evaluando la eq.9 y la eq.3 en z = Zm e igualando sus respectivos resultados"
   ]
  },
  {
   "cell_type": "code",
   "execution_count": 27,
   "metadata": {},
   "outputs": [
    {
     "data": {
      "text/latex": [
       "$$Q_{m} = \\frac{H_{0} Z_{m} \\delta e^{- \\frac{Z_{m}}{\\delta}}}{Z_{f}} - \\frac{H_{0} \\delta^{2}}{Z_{f}} + \\frac{H_{0} \\delta^{2} e^{- \\frac{Z_{m}}{\\delta}}}{Z_{f}} + \\frac{T_{f} k}{Z_{f}} \\;(eq.10)$$"
      ],
      "text/plain": [
       "<IPython.core.display.Latex object>"
      ]
     },
     "metadata": {},
     "output_type": "display_data"
    }
   ],
   "source": [
    "e1 = sp.solve(Eq_3.subs(z,Zm), T(Zm))[0]\n",
    "e2 = sp.solve(Eq_9.subs(z,Zm), T(Zm))[0]\n",
    "e = sp.Eq(e1, e2)\n",
    "Eq_10 = sp.Eq(Qm, sp.solve(e, Qm)[0])\n",
    "printeq(Eq_10.expand(),10)"
   ]
  },
  {
   "cell_type": "markdown",
   "metadata": {},
   "source": [
    "<hr style=\"color:black\"/>"
   ]
  },
  {
   "cell_type": "markdown",
   "metadata": {},
   "source": [
    "**Ecuación final para temperatura en la corteza del modelo M1**"
   ]
  },
  {
   "cell_type": "code",
   "execution_count": 28,
   "metadata": {},
   "outputs": [
    {
     "data": {
      "text/latex": [
       "$$T{\\left(z \\right)} = \\frac{H_{0} \\delta^{2}}{k} - \\frac{H_{0} \\delta^{2} e^{- \\frac{z}{\\delta}}}{k} - \\frac{H_{0} \\delta z e^{- \\frac{Z_{m}}{\\delta}}}{k} + \\frac{H_{0} Z_{m} \\delta z e^{- \\frac{Z_{m}}{\\delta}}}{Z_{f} k} - \\frac{H_{0} \\delta^{2} z}{Z_{f} k} + \\frac{H_{0} \\delta^{2} z e^{- \\frac{Z_{m}}{\\delta}}}{Z_{f} k} + \\frac{T_{f} z}{Z_{f}} \\;(eq.12)$$"
      ],
      "text/plain": [
       "<IPython.core.display.Latex object>"
      ]
     },
     "metadata": {},
     "output_type": "display_data"
    }
   ],
   "source": [
    "Eq_12 = Eq_9.subs(Qm, Eq_10.args[1])\n",
    "printeq(sp.expand(Eq_12),12)"
   ]
  },
  {
   "cell_type": "code",
   "execution_count": 29,
   "metadata": {},
   "outputs": [],
   "source": [
    "#Eq_12_simp = sp.Eq(T(z), (1/k)*(-Ho*(delta**2)*sp.exp(-z/delta)-z*(Ho*delta*sp.exp(-Zm/delta)-Qm)+Ho*(delta**2)))\n",
    "#Eq_12_simp = Eq_12_simp.subs(Qm, Eq_10.args[1])\n",
    "#Eq_12_simp.expand().args[1] - Eq_12.expand().args[1]"
   ]
  },
  {
   "cell_type": "markdown",
   "metadata": {},
   "source": [
    "**Ecuación final para temperatura en el manto del modelo M1**"
   ]
  },
  {
   "cell_type": "code",
   "execution_count": 30,
   "metadata": {},
   "outputs": [
    {
     "data": {
      "text/latex": [
       "$$T{\\left(z \\right)} = - \\frac{H_{0} Z_{m} \\delta e^{- \\frac{Z_{m}}{\\delta}}}{k} + \\frac{H_{0} \\delta^{2}}{k} - \\frac{H_{0} \\delta^{2} e^{- \\frac{Z_{m}}{\\delta}}}{k} + \\frac{H_{0} Z_{m} \\delta z e^{- \\frac{Z_{m}}{\\delta}}}{Z_{f} k} - \\frac{H_{0} \\delta^{2} z}{Z_{f} k} + \\frac{H_{0} \\delta^{2} z e^{- \\frac{Z_{m}}{\\delta}}}{Z_{f} k} + \\frac{T_{f} z}{Z_{f}} \\;(eq.13)$$"
      ],
      "text/plain": [
       "<IPython.core.display.Latex object>"
      ]
     },
     "metadata": {},
     "output_type": "display_data"
    }
   ],
   "source": [
    "Eq_13 = Eq_3.subs(Qm, Eq_10.args[1])\n",
    "printeq(sp.expand(Eq_13),13)"
   ]
  },
  {
   "cell_type": "code",
   "execution_count": 31,
   "metadata": {},
   "outputs": [],
   "source": [
    "#Eq_13_simp = sp.Eq(T(z), (Qm/k)*(z-Zf)+Tf)\n",
    "#Eq_13_simp = Eq_13_simp.subs(Qm, Eq_10.args[1])\n",
    "#Eq_13_simp.expand().args[1] - Eq_13.expand().args[1]"
   ]
  },
  {
   "cell_type": "markdown",
   "metadata": {},
   "source": [
    "**Ecuación final para calor en la corteza del modelo M1**"
   ]
  },
  {
   "cell_type": "code",
   "execution_count": 32,
   "metadata": {},
   "outputs": [
    {
     "data": {
      "text/latex": [
       "$$k \\frac{d}{d z} T{\\left(z \\right)} = H_{0} \\delta e^{- \\frac{z}{\\delta}} - H_{0} \\delta e^{- \\frac{Z_{m}}{\\delta}} + \\frac{H_{0} Z_{m} \\delta e^{- \\frac{Z_{m}}{\\delta}}}{Z_{f}} - \\frac{H_{0} \\delta^{2}}{Z_{f}} + \\frac{H_{0} \\delta^{2} e^{- \\frac{Z_{m}}{\\delta}}}{Z_{f}} + \\frac{T_{f} k}{Z_{f}} \\;(eq.14)$$"
      ],
      "text/plain": [
       "<IPython.core.display.Latex object>"
      ]
     },
     "metadata": {},
     "output_type": "display_data"
    }
   ],
   "source": [
    "Eq_14 = sp.Eq(k*Eq_12.args[0].diff(z),k*Eq_12.args[1].diff(z))\n",
    "printeq(sp.expand(Eq_14),14)"
   ]
  },
  {
   "cell_type": "code",
   "execution_count": 33,
   "metadata": {},
   "outputs": [],
   "source": [
    "#Eq_14_simp = sp.Eq(Q(z), Ho*delta*sp.exp(-z/delta)-Ho*delta*sp.exp(-Zm/delta)+Qm)\n",
    "#Eq_14_simp = Eq_14_simp.subs(Qm, Eq_10.args[1])\n",
    "#Eq_14_simp.expand().args[1] - Eq_14.expand().args[1]"
   ]
  },
  {
   "cell_type": "markdown",
   "metadata": {},
   "source": [
    "**Ecuación final para calor en el manto del modelo M1**"
   ]
  },
  {
   "cell_type": "code",
   "execution_count": 34,
   "metadata": {},
   "outputs": [
    {
     "data": {
      "text/latex": [
       "$$k \\frac{d}{d z} T{\\left(z \\right)} = \\frac{H_{0} Z_{m} \\delta e^{- \\frac{Z_{m}}{\\delta}}}{Z_{f}} - \\frac{H_{0} \\delta^{2}}{Z_{f}} + \\frac{H_{0} \\delta^{2} e^{- \\frac{Z_{m}}{\\delta}}}{Z_{f}} + \\frac{T_{f} k}{Z_{f}} \\;(eq.15)$$"
      ],
      "text/plain": [
       "<IPython.core.display.Latex object>"
      ]
     },
     "metadata": {},
     "output_type": "display_data"
    }
   ],
   "source": [
    "Eq_15 = sp.Eq(k*Eq_13.args[0].diff(z), k*Eq_13.args[1].diff(z)) \n",
    "printeq(sp.expand(Eq_15),15)"
   ]
  },
  {
   "cell_type": "code",
   "execution_count": 35,
   "metadata": {},
   "outputs": [],
   "source": [
    "#Eq_15_simp = sp.Eq(Q(z), Qm)\n",
    "#Eq_15_simp = Eq_15_simp.subs(Qm, Eq_10.args[1])\n",
    "#Eq_15_simp.expand().args[1] - Eq_15.expand().args[1]"
   ]
  },
  {
   "cell_type": "markdown",
   "metadata": {},
   "source": [
    "<hr style=\"color:black\"/>"
   ]
  },
  {
   "cell_type": "code",
   "execution_count": 36,
   "metadata": {},
   "outputs": [],
   "source": [
    "T_z_crust_M1 = sp.lambdify(z,Eq_12.args[1].subs(substitutions))\n",
    "T_z_mantle_M1 = sp.lambdify(z,Eq_13.args[1].subs(substitutions))\n",
    "Q_z_crust_M1 = sp.lambdify(z,Eq_14.args[1].subs(substitutions))\n",
    "Q_z_mantle_M1 = sp.lambdify(z,Eq_15.args[1].subs(substitutions))\n"
   ]
  },
  {
   "cell_type": "code",
   "execution_count": 37,
   "metadata": {},
   "outputs": [
    {
     "data": {
      "image/png": "[encoded data removed]",
      "text/plain": [
       "<Figure size 432x288 with 4 Axes>"
      ]
     },
     "metadata": {
      "needs_background": "light"
     },
     "output_type": "display_data"
    }
   ],
   "source": [
    "fig, axes = plt.subplots(nrows=2,ncols=2)\n",
    "axes[0][0].plot(domain, T_z_crust_M1(domain))\n",
    "axes[0][1].plot(domain, T_z_mantle_M1(domain))\n",
    "axes[1][0].plot(domain, Q_z_crust_M1(domain))\n",
    "axes[1][1].plot(domain, np.repeat(Q_z_mantle_M1(domain),len(domain)))\n",
    "axes[0][0].set_xlim(substitutions[Zo],substitutions[Zm])\n",
    "axes[0][1].set_xlim(substitutions[Zm],substitutions[Zf])\n",
    "axes[0][0].set_ylim(0,1300)\n",
    "axes[0][1].set_ylim(0,1300)\n",
    "axes[0][0].set_xticks([])\n",
    "axes[0][1].set_xticks([])\n",
    "axes[0][1].set_yticks([])\n",
    "axes[1][0].set_xlim(substitutions[Zo],substitutions[Zm])\n",
    "axes[1][1].set_xlim(substitutions[Zm],substitutions[Zf])\n",
    "axes[1][0].set_ylim(0.0,0.15)\n",
    "axes[1][1].set_ylim(0.0,0.15)\n",
    "axes[1][0].set_xticks([substitutions[Zo]])\n",
    "axes[1][1].set_xticks([substitutions[Zm], substitutions[Zf]])\n",
    "axes[1][1].set_yticks([])\n",
    "axes[1][0].tick_params('x', labelrotation=90)\n",
    "axes[1][1].tick_params('x', labelrotation=90)\n",
    "axes[0][0].set_ylabel(\"T(z)\")\n",
    "axes[1][0].set_ylabel(\"Q(z)\")\n",
    "axes[1][0].set_xlabel(\"z\")\n",
    "\n",
    "fig.subplots_adjust(wspace=0.05)"
   ]
  },
  {
   "cell_type": "code",
   "execution_count": 38,
   "metadata": {},
   "outputs": [
    {
     "name": "stdout",
     "output_type": "stream",
     "text": [
      "T_crust(Zm) =  697.9786159002765\n",
      "T_mantle(Zm) =  697.9786159002737\n",
      "\n",
      "Q_crust(Zm) =  0.03612128304598357\n",
      "Q_mantle(Zm) =  0.0361212830459835\n"
     ]
    }
   ],
   "source": [
    "print(\"T_crust(Zm) = \", T_z_crust_M1(substitutions[Zm]))\n",
    "print(\"T_mantle(Zm) = \", T_z_mantle_M1(substitutions[Zm]))\n",
    "print(\"\")\n",
    "print(\"Q_crust(Zm) = \", Q_z_crust_M1(substitutions[Zm]))\n",
    "print(\"Q_mantle(Zm) = \", Q_z_mantle_M1(substitutions[Zm]))\n",
    "\n",
    "#print(len(Q_z_crust_M1(domain)))\n",
    "#print(len(Q_z_mantle_M1(domain)))"
   ]
  },
  {
   "cell_type": "markdown",
   "metadata": {},
   "source": [
    "<hr style=\"color:black\"/>"
   ]
  },
  {
   "cell_type": "markdown",
   "metadata": {},
   "source": [
    "### Modelo M2"
   ]
  },
  {
   "cell_type": "markdown",
   "metadata": {},
   "source": [
    "Condiciones de borde del modelo M2"
   ]
  },
  {
   "cell_type": "markdown",
   "metadata": {},
   "source": [
    "5. Q = -Qi en z = Zi"
   ]
  },
  {
   "cell_type": "code",
   "execution_count": 39,
   "metadata": {},
   "outputs": [
    {
     "data": {
      "text/latex": [
       "$$- k \\frac{d}{d Z_{i}} T{\\left(Z_{i} \\right)} = - Q_{i} \\;(cond.5)$$"
      ],
      "text/plain": [
       "<IPython.core.display.Latex object>"
      ]
     },
     "metadata": {},
     "output_type": "display_data"
    }
   ],
   "source": [
    "cond5 = sp.Eq(-k*(T(Zi).diff(Zi)),-Qi)\n",
    "printeq(cond5, 5, \"cond.\")"
   ]
  },
  {
   "cell_type": "markdown",
   "metadata": {},
   "source": [
    "6. T = Ti en z = Zi"
   ]
  },
  {
   "cell_type": "code",
   "execution_count": 40,
   "metadata": {},
   "outputs": [
    {
     "data": {
      "text/latex": [
       "$$T{\\left(Z_{i} \\right)} = T_{i} \\;(cond.6)$$"
      ],
      "text/plain": [
       "<IPython.core.display.Latex object>"
      ]
     },
     "metadata": {},
     "output_type": "display_data"
    }
   ],
   "source": [
    "cond6 = sp.Eq(T(Zi), Ti)\n",
    "printeq(cond6, 6, \"cond.\")"
   ]
  },
  {
   "cell_type": "markdown",
   "metadata": {},
   "source": [
    "En el modelo M2, tanto la corteza inferior como la corteza superior poseen un valor constante de generación de calor $Hc$"
   ]
  },
  {
   "cell_type": "code",
   "execution_count": 41,
   "metadata": {},
   "outputs": [
    {
     "data": {
      "text/latex": [
       "$$H{\\left(z \\right)} = H_{c} \\;(eq.16)$$"
      ],
      "text/plain": [
       "<IPython.core.display.Latex object>"
      ]
     },
     "metadata": {},
     "output_type": "display_data"
    }
   ],
   "source": [
    "Eq_16 = sp.Eq(H(z), Hc)\n",
    "printeq(Eq_16,16)"
   ]
  },
  {
   "cell_type": "markdown",
   "metadata": {},
   "source": [
    "Reemplazando la eq.16 en la eq.0"
   ]
  },
  {
   "cell_type": "code",
   "execution_count": 42,
   "metadata": {},
   "outputs": [
    {
     "data": {
      "text/latex": [
       "$$k \\frac{d^{2}}{d z^{2}} T{\\left(z \\right)} = - H_{c}$$"
      ],
      "text/plain": [
       "<IPython.core.display.Latex object>"
      ]
     },
     "metadata": {},
     "output_type": "display_data"
    }
   ],
   "source": [
    "Heat_eq_upper_crust = Eq_0.subs(H(z), sp.solve(Eq_16, H(z))[0])\n",
    "printeq(Heat_eq_upper_crust)"
   ]
  },
  {
   "cell_type": "markdown",
   "metadata": {},
   "source": [
    "Integrando con respecto a dz"
   ]
  },
  {
   "cell_type": "code",
   "execution_count": 43,
   "metadata": {},
   "outputs": [
    {
     "data": {
      "text/latex": [
       "$$k \\frac{d}{d z} T{\\left(z \\right)} = C - H_{c} z \\;(eq.17)$$"
      ],
      "text/plain": [
       "<IPython.core.display.Latex object>"
      ]
     },
     "metadata": {},
     "output_type": "display_data"
    }
   ],
   "source": [
    "e = Heat_eq_upper_crust.bsop(lambda bs: sp.integrate(bs, z))\n",
    "Eq_17 = e.rhsop(lambda rhs: rhs + sp.var('C'))\n",
    "printeq(Eq_17,17)"
   ]
  },
  {
   "cell_type": "markdown",
   "metadata": {},
   "source": [
    "<hr style=\"color:black\"/>"
   ]
  },
  {
   "cell_type": "markdown",
   "metadata": {},
   "source": [
    "**Corteza Inferior**"
   ]
  },
  {
   "cell_type": "markdown",
   "metadata": {},
   "source": [
    "Reemplazando Hc y C de eq.17 por Hlc y C4 respectivamente"
   ]
  },
  {
   "cell_type": "code",
   "execution_count": 44,
   "metadata": {},
   "outputs": [
    {
     "data": {
      "text/latex": [
       "$$k \\frac{d}{d z} T{\\left(z \\right)} = C_{4} - H_{lc} z \\;(eq.18)$$"
      ],
      "text/plain": [
       "<IPython.core.display.Latex object>"
      ]
     },
     "metadata": {},
     "output_type": "display_data"
    }
   ],
   "source": [
    "Eq_18 = Eq_17.subs({Hc: Hlc, 'C': sp.var('C4')})\n",
    "printeq(Eq_18,18)"
   ]
  },
  {
   "cell_type": "markdown",
   "metadata": {},
   "source": [
    "Evaluando eq.18 en z = Zm y reemplazando cond.1 en el resultado"
   ]
  },
  {
   "cell_type": "code",
   "execution_count": 45,
   "metadata": {},
   "outputs": [
    {
     "data": {
      "text/latex": [
       "$$C_{4} = H_{lc} Z_{m} + Q_{m} \\;(eq.19)$$"
      ],
      "text/plain": [
       "<IPython.core.display.Latex object>"
      ]
     },
     "metadata": {},
     "output_type": "display_data"
    }
   ],
   "source": [
    "e = Eq_18.subs(z,Zm)\n",
    "e = e.subs(e.lhs, sp.solve(cond1, e.lhs)[0])\n",
    "Eq_19 = sp.Eq(C4, sp.solve(e, 'C4')[0])\n",
    "printeq(Eq_19,19)"
   ]
  },
  {
   "cell_type": "markdown",
   "metadata": {},
   "source": [
    "Reemplazando eq.19 en eq.18"
   ]
  },
  {
   "cell_type": "code",
   "execution_count": 46,
   "metadata": {},
   "outputs": [
    {
     "data": {
      "text/latex": [
       "$$k \\frac{d}{d z} T{\\left(z \\right)} = H_{lc} Z_{m} - H_{lc} z + Q_{m} \\;(eq.20)$$"
      ],
      "text/plain": [
       "<IPython.core.display.Latex object>"
      ]
     },
     "metadata": {},
     "output_type": "display_data"
    }
   ],
   "source": [
    "Eq_20 = Eq_18.subs('C4', sp.solve(Eq_19, 'C4')[0])\n",
    "printeq(Eq_20,20)"
   ]
  },
  {
   "cell_type": "markdown",
   "metadata": {},
   "source": [
    "Integrando eq.20 con respecto a dz"
   ]
  },
  {
   "cell_type": "code",
   "execution_count": 47,
   "metadata": {},
   "outputs": [
    {
     "data": {
      "text/latex": [
       "$$T{\\left(z \\right)} = \\frac{C_{5} + H_{lc} Z_{m} z - \\frac{H_{lc} z^{2}}{2} + Q_{m} z}{k} \\;(eq.21)$$"
      ],
      "text/plain": [
       "<IPython.core.display.Latex object>"
      ]
     },
     "metadata": {},
     "output_type": "display_data"
    }
   ],
   "source": [
    "e = Eq_20.bsop(lambda bs: sp.integrate(bs, z))\n",
    "e = e.rhsop(lambda rhs: rhs + sp.var('C5'))\n",
    "Eq_21 = sp.Eq(T(z), sp.solve(e, T(z))[0])\n",
    "printeq(Eq_21,21)"
   ]
  },
  {
   "cell_type": "markdown",
   "metadata": {},
   "source": [
    "<hr style=\"color:black\"/>"
   ]
  },
  {
   "cell_type": "markdown",
   "metadata": {},
   "source": [
    "**Corteza superior**"
   ]
  },
  {
   "cell_type": "markdown",
   "metadata": {},
   "source": [
    "Reemplazando Hc y C en eq.17 por Huc y C5 respectivamente"
   ]
  },
  {
   "cell_type": "code",
   "execution_count": 48,
   "metadata": {},
   "outputs": [
    {
     "data": {
      "text/latex": [
       "$$k \\frac{d}{d z} T{\\left(z \\right)} = C_{6} - H_{uc} z \\;(eq.22)$$"
      ],
      "text/plain": [
       "<IPython.core.display.Latex object>"
      ]
     },
     "metadata": {},
     "output_type": "display_data"
    }
   ],
   "source": [
    "Eq_22 = Eq_17.subs({Hc: Huc, 'C': sp.var('C6')})\n",
    "printeq(Eq_22,22)"
   ]
  },
  {
   "cell_type": "markdown",
   "metadata": {},
   "source": [
    "Evaluando eq.22 y eq.20 en z = Zi e igualando sus resultados"
   ]
  },
  {
   "cell_type": "code",
   "execution_count": 49,
   "metadata": {},
   "outputs": [
    {
     "data": {
      "text/latex": [
       "$$C_{6} = - H_{lc} Z_{i} + H_{lc} Z_{m} + H_{uc} Z_{i} + Q_{m} \\;(eq.23)$$"
      ],
      "text/plain": [
       "<IPython.core.display.Latex object>"
      ]
     },
     "metadata": {},
     "output_type": "display_data"
    }
   ],
   "source": [
    "e1 = Eq_22.subs(z,Zi)\n",
    "e1 = e1.subs(e1.lhs, sp.solve(cond5, e1.lhs)[0])\n",
    "e2 = Eq_20.subs(z,Zi)\n",
    "e2 = e2.subs(e2.lhs, sp.solve(cond5, e2.lhs)[0])\n",
    "e = e1.subs(Qi, sp.solve(e2, Qi)[0])\n",
    "Eq_23 = sp.Eq(C6, sp.solve(e, C6)[0])\n",
    "printeq(Eq_23,23)"
   ]
  },
  {
   "cell_type": "markdown",
   "metadata": {},
   "source": [
    "Reemplazando eq.23 en eq.22"
   ]
  },
  {
   "cell_type": "code",
   "execution_count": 50,
   "metadata": {},
   "outputs": [
    {
     "data": {
      "text/latex": [
       "$$k \\frac{d}{d z} T{\\left(z \\right)} = - H_{lc} Z_{i} + H_{lc} Z_{m} + H_{uc} Z_{i} - H_{uc} z + Q_{m} \\;(eq.24)$$"
      ],
      "text/plain": [
       "<IPython.core.display.Latex object>"
      ]
     },
     "metadata": {},
     "output_type": "display_data"
    }
   ],
   "source": [
    "Eq_24 = Eq_22.subs(C6, sp.solve(Eq_23, 'C6')[0])\n",
    "printeq(Eq_24,24)"
   ]
  },
  {
   "cell_type": "markdown",
   "metadata": {},
   "source": [
    "Integrando eq.24 con respecto a dz"
   ]
  },
  {
   "cell_type": "code",
   "execution_count": 51,
   "metadata": {},
   "outputs": [
    {
     "data": {
      "text/latex": [
       "$$T{\\left(z \\right)} = C_{7} + \\frac{z \\left(- 2 H_{lc} Z_{i} + 2 H_{lc} Z_{m} + 2 H_{uc} Z_{i} - H_{uc} z + 2 Q_{m}\\right)}{2 k} \\;(eq.25)$$"
      ],
      "text/plain": [
       "<IPython.core.display.Latex object>"
      ]
     },
     "metadata": {},
     "output_type": "display_data"
    }
   ],
   "source": [
    "e = Eq_24.bsop(lambda bs: sp.integrate(bs, z))\n",
    "e = sp.Eq(T(z), sp.solve(e, T(z))[0])\n",
    "Eq_25 = e.rhsop(lambda rhs: rhs + sp.var('C7'))\n",
    "printeq(Eq_25,25)"
   ]
  },
  {
   "cell_type": "markdown",
   "metadata": {},
   "source": [
    "Evaluando eq.27 en z = 0 y reemplazando cond.4 en el resultado"
   ]
  },
  {
   "cell_type": "code",
   "execution_count": 52,
   "metadata": {},
   "outputs": [
    {
     "data": {
      "text/latex": [
       "$$C_{7} = 0 \\;(eq.26)$$"
      ],
      "text/plain": [
       "<IPython.core.display.Latex object>"
      ]
     },
     "metadata": {},
     "output_type": "display_data"
    }
   ],
   "source": [
    "e = Eq_25.subs(z,0)\n",
    "e = e.subs(T(0), sp.solve(cond4, T(0))[0])\n",
    "Eq_26 = sp.Eq(C7, sp.solve(e, 'C7')[0])\n",
    "printeq(Eq_26,26)"
   ]
  },
  {
   "cell_type": "markdown",
   "metadata": {},
   "source": [
    "Reemplazando eq.26 en eq.25"
   ]
  },
  {
   "cell_type": "code",
   "execution_count": 53,
   "metadata": {},
   "outputs": [
    {
     "data": {
      "text/latex": [
       "$$T{\\left(z \\right)} = - \\frac{H_{lc} Z_{i} z}{k} + \\frac{H_{lc} Z_{m} z}{k} + \\frac{H_{uc} Z_{i} z}{k} - \\frac{H_{uc} z^{2}}{2 k} + \\frac{Q_{m} z}{k} \\;(eq.27)$$"
      ],
      "text/plain": [
       "<IPython.core.display.Latex object>"
      ]
     },
     "metadata": {},
     "output_type": "display_data"
    }
   ],
   "source": [
    "Eq_27 = Eq_25.subs('C7', sp.solve(Eq_26, 'C7')[0]) \n",
    "printeq(Eq_27.expand(),27)"
   ]
  },
  {
   "cell_type": "markdown",
   "metadata": {},
   "source": [
    "Evaluando eq.27 y eq.21 en z = Zi e igualando sus resultados"
   ]
  },
  {
   "cell_type": "code",
   "execution_count": 54,
   "metadata": {},
   "outputs": [
    {
     "data": {
      "text/latex": [
       "$$C_{5} = \\frac{Z_{i}^{2} \\left(- H_{lc} + H_{uc}\\right)}{2} \\;(eq.28)$$"
      ],
      "text/plain": [
       "<IPython.core.display.Latex object>"
      ]
     },
     "metadata": {},
     "output_type": "display_data"
    }
   ],
   "source": [
    "e1 = Eq_27.subs(z,Zi)\n",
    "e1 = e1.subs(T(Zi), sp.solve(cond6, T(Zi))[0])\n",
    "e2 = Eq_21.subs(z,Zi)\n",
    "e2 = e2.subs(T(Zi), sp.solve(cond6, T(Zi))[0])\n",
    "e = e2.subs(Ti, sp.solve(e1, Ti)[0])\n",
    "Eq_28 = sp.Eq(C5, sp.solve(e, C5)[0])\n",
    "printeq(Eq_28,28)"
   ]
  },
  {
   "cell_type": "markdown",
   "metadata": {},
   "source": [
    "Reemplazando eq.28 en eq.21"
   ]
  },
  {
   "cell_type": "code",
   "execution_count": 55,
   "metadata": {},
   "outputs": [
    {
     "data": {
      "text/latex": [
       "$$T{\\left(z \\right)} = - \\frac{H_{lc} Z_{i}^{2}}{2 k} + \\frac{H_{lc} Z_{m} z}{k} - \\frac{H_{lc} z^{2}}{2 k} + \\frac{H_{uc} Z_{i}^{2}}{2 k} + \\frac{Q_{m} z}{k} \\;(eq.29)$$"
      ],
      "text/plain": [
       "<IPython.core.display.Latex object>"
      ]
     },
     "metadata": {},
     "output_type": "display_data"
    }
   ],
   "source": [
    "Eq_29 = Eq_21.subs(C5, sp.solve(Eq_28, 'C5')[0])\n",
    "printeq(Eq_29.expand(),29)"
   ]
  },
  {
   "cell_type": "markdown",
   "metadata": {},
   "source": [
    "<hr style=\"color:black\"/>"
   ]
  },
  {
   "cell_type": "markdown",
   "metadata": {},
   "source": [
    "Evaluando eq.29 y eq.3 en z = Zm e igualando sus resultados"
   ]
  },
  {
   "cell_type": "code",
   "execution_count": 56,
   "metadata": {},
   "outputs": [
    {
     "data": {
      "text/latex": [
       "$$Q_{m} = \\frac{H_{lc} Z_{i}^{2} - H_{lc} Z_{m}^{2} - H_{uc} Z_{i}^{2} + 2 T_{f} k}{2 Z_{f}} \\;(eq.30)$$"
      ],
      "text/plain": [
       "<IPython.core.display.Latex object>"
      ]
     },
     "metadata": {},
     "output_type": "display_data"
    }
   ],
   "source": [
    "e1 = Eq_29.subs(z,Zm)\n",
    "e1 = e1.subs(T(Zm), sp.solve(cond2, T(Zm))[0])\n",
    "e2 = Eq_3.subs(z,Zm)\n",
    "e2 = e2.subs(T(Zm), sp.solve(cond2, T(Zm))[0])\n",
    "e = e2.subs(Tm, sp.solve(e1, Tm)[0])\n",
    "e\n",
    "Eq_30 = sp.Eq(Qm, sp.solve(e, Qm)[0])\n",
    "printeq(Eq_30,30)"
   ]
  },
  {
   "cell_type": "markdown",
   "metadata": {},
   "source": [
    "<hr style=\"color:black\"/>"
   ]
  },
  {
   "cell_type": "markdown",
   "metadata": {},
   "source": [
    "Reemplazando eq.30 en eq.27"
   ]
  },
  {
   "cell_type": "markdown",
   "metadata": {},
   "source": [
    "**Ecuación final para temperatura en la corteza superior del modelo M2**"
   ]
  },
  {
   "cell_type": "code",
   "execution_count": 57,
   "metadata": {},
   "outputs": [
    {
     "data": {
      "text/latex": [
       "$$T{\\left(z \\right)} = - \\frac{H_{lc} Z_{i} z}{k} + \\frac{H_{lc} Z_{m} z}{k} + \\frac{H_{lc} Z_{i}^{2} z}{2 Z_{f} k} - \\frac{H_{lc} Z_{m}^{2} z}{2 Z_{f} k} + \\frac{H_{uc} Z_{i} z}{k} - \\frac{H_{uc} z^{2}}{2 k} - \\frac{H_{uc} Z_{i}^{2} z}{2 Z_{f} k} + \\frac{T_{f} z}{Z_{f}} \\;(eq.31)$$"
      ],
      "text/plain": [
       "<IPython.core.display.Latex object>"
      ]
     },
     "metadata": {},
     "output_type": "display_data"
    }
   ],
   "source": [
    "Eq_31 = Eq_27.subs(Qm, sp.solve(Eq_30, Qm)[0])\n",
    "printeq(sp.expand(Eq_31),31)"
   ]
  },
  {
   "cell_type": "markdown",
   "metadata": {},
   "source": [
    "Reemplazando eq.30 en eq.29"
   ]
  },
  {
   "cell_type": "markdown",
   "metadata": {},
   "source": [
    "**Ecuación final para temperatura en la corteza inferior del modelo M2**"
   ]
  },
  {
   "cell_type": "code",
   "execution_count": 58,
   "metadata": {},
   "outputs": [
    {
     "data": {
      "text/latex": [
       "$$T{\\left(z \\right)} = - \\frac{H_{lc} Z_{i}^{2}}{2 k} + \\frac{H_{lc} Z_{m} z}{k} - \\frac{H_{lc} z^{2}}{2 k} + \\frac{H_{lc} Z_{i}^{2} z}{2 Z_{f} k} - \\frac{H_{lc} Z_{m}^{2} z}{2 Z_{f} k} + \\frac{H_{uc} Z_{i}^{2}}{2 k} - \\frac{H_{uc} Z_{i}^{2} z}{2 Z_{f} k} + \\frac{T_{f} z}{Z_{f}} \\;(eq.32)$$"
      ],
      "text/plain": [
       "<IPython.core.display.Latex object>"
      ]
     },
     "metadata": {},
     "output_type": "display_data"
    }
   ],
   "source": [
    "Eq_32 = Eq_29.subs(Qm, sp.solve(Eq_30, Qm)[0])\n",
    "printeq(sp.expand(Eq_32),32)"
   ]
  },
  {
   "cell_type": "markdown",
   "metadata": {},
   "source": [
    "Reemplazando eq.30 en eq.3"
   ]
  },
  {
   "cell_type": "markdown",
   "metadata": {},
   "source": [
    "**Ecuación final para temperatura en el manto litosférico del modelo M2**"
   ]
  },
  {
   "cell_type": "code",
   "execution_count": 59,
   "metadata": {},
   "outputs": [
    {
     "data": {
      "text/latex": [
       "$$T{\\left(z \\right)} = - \\frac{H_{lc} Z_{i}^{2}}{2 k} + \\frac{H_{lc} Z_{m}^{2}}{2 k} + \\frac{H_{lc} Z_{i}^{2} z}{2 Z_{f} k} - \\frac{H_{lc} Z_{m}^{2} z}{2 Z_{f} k} + \\frac{H_{uc} Z_{i}^{2}}{2 k} - \\frac{H_{uc} Z_{i}^{2} z}{2 Z_{f} k} + \\frac{T_{f} z}{Z_{f}} \\;(eq.33)$$"
      ],
      "text/plain": [
       "<IPython.core.display.Latex object>"
      ]
     },
     "metadata": {},
     "output_type": "display_data"
    }
   ],
   "source": [
    "Eq_33 = Eq_3.subs(Qm, sp.solve(Eq_30, Qm)[0])\n",
    "printeq(sp.expand(Eq_33,33),33)"
   ]
  },
  {
   "cell_type": "markdown",
   "metadata": {},
   "source": [
    "Reemplazando eq.30 en eq.24"
   ]
  },
  {
   "cell_type": "markdown",
   "metadata": {},
   "source": [
    "**Ecuación final para calor en la corteza superior del modelo M2**"
   ]
  },
  {
   "cell_type": "code",
   "execution_count": 60,
   "metadata": {},
   "outputs": [
    {
     "data": {
      "text/latex": [
       "$$k \\frac{d}{d z} T{\\left(z \\right)} = - H_{lc} Z_{i} + H_{lc} Z_{m} + \\frac{H_{lc} Z_{i}^{2}}{2 Z_{f}} - \\frac{H_{lc} Z_{m}^{2}}{2 Z_{f}} + H_{uc} Z_{i} - H_{uc} z - \\frac{H_{uc} Z_{i}^{2}}{2 Z_{f}} + \\frac{T_{f} k}{Z_{f}} \\;(eq.34)$$"
      ],
      "text/plain": [
       "<IPython.core.display.Latex object>"
      ]
     },
     "metadata": {},
     "output_type": "display_data"
    }
   ],
   "source": [
    "Eq_34 = Eq_24.subs(Qm, sp.solve(Eq_30, Qm)[0])\n",
    "printeq(sp.expand(Eq_34,34),34)"
   ]
  },
  {
   "cell_type": "markdown",
   "metadata": {},
   "source": [
    "Reemplazando eq.30 en eq.20"
   ]
  },
  {
   "cell_type": "markdown",
   "metadata": {},
   "source": [
    "**Ecuación final para calor en la corteza inferior del modelo M2**"
   ]
  },
  {
   "cell_type": "code",
   "execution_count": 61,
   "metadata": {},
   "outputs": [
    {
     "data": {
      "text/latex": [
       "$$k \\frac{d}{d z} T{\\left(z \\right)} = H_{lc} Z_{m} - H_{lc} z + \\frac{H_{lc} Z_{i}^{2}}{2 Z_{f}} - \\frac{H_{lc} Z_{m}^{2}}{2 Z_{f}} - \\frac{H_{uc} Z_{i}^{2}}{2 Z_{f}} + \\frac{T_{f} k}{Z_{f}} \\;(eq.35)$$"
      ],
      "text/plain": [
       "<IPython.core.display.Latex object>"
      ]
     },
     "metadata": {},
     "output_type": "display_data"
    }
   ],
   "source": [
    "Eq_35 = Eq_20.subs(Qm, sp.solve(Eq_30, Qm)[0])\n",
    "printeq(sp.expand(Eq_35),35)"
   ]
  },
  {
   "cell_type": "markdown",
   "metadata": {},
   "source": [
    "Reemplazando eq.30 en eq.2"
   ]
  },
  {
   "cell_type": "markdown",
   "metadata": {},
   "source": [
    "**Ecuación final para calor en manto litosférico del modelo M2**"
   ]
  },
  {
   "cell_type": "code",
   "execution_count": 62,
   "metadata": {},
   "outputs": [
    {
     "data": {
      "text/latex": [
       "$$k \\frac{d}{d z} T{\\left(z \\right)} = \\frac{H_{lc} Z_{i}^{2}}{2 Z_{f}} - \\frac{H_{lc} Z_{m}^{2}}{2 Z_{f}} - \\frac{H_{uc} Z_{i}^{2}}{2 Z_{f}} + \\frac{T_{f} k}{Z_{f}} \\;(eq.36)$$"
      ],
      "text/plain": [
       "<IPython.core.display.Latex object>"
      ]
     },
     "metadata": {},
     "output_type": "display_data"
    }
   ],
   "source": [
    "Eq_36 = Eq_2.subs(Qm, sp.solve(Eq_30, Qm)[0])\n",
    "printeq(sp.expand(Eq_36),36)"
   ]
  },
  {
   "cell_type": "markdown",
   "metadata": {},
   "source": [
    "<hr style=\"color:black\"/>"
   ]
  },
  {
   "cell_type": "code",
   "execution_count": 63,
   "metadata": {},
   "outputs": [],
   "source": [
    "T_z_upper_crust_M2 = sp.lambdify(z,Eq_31.args[1].subs(substitutions))\n",
    "T_z_lower_crust_M2 = sp.lambdify(z,Eq_32.args[1].subs(substitutions))\n",
    "T_z_mantle_M2 = sp.lambdify(z,Eq_33.args[1].subs(substitutions))\n",
    "Q_z_upper_crust_M2 = sp.lambdify(z,Eq_34.args[1].subs(substitutions))\n",
    "Q_z_lower_crust_M2 = sp.lambdify(z,Eq_35.args[1].subs(substitutions))\n",
    "Q_z_mantle_M2 = sp.lambdify(z,Eq_36.args[1].subs(substitutions))\n",
    "\n"
   ]
  },
  {
   "cell_type": "code",
   "execution_count": 64,
   "metadata": {},
   "outputs": [
    {
     "data": {
      "image/png": "[encoded data removed]",
      "text/plain": [
       "<Figure size 432x288 with 6 Axes>"
      ]
     },
     "metadata": {
      "needs_background": "light"
     },
     "output_type": "display_data"
    }
   ],
   "source": [
    "divisor = substitutions[Zf]-substitutions[Zm]\n",
    "fig, axes = plt.subplots(nrows=2,ncols=3, gridspec_kw={\n",
    "   'width_ratios': [(substitutions[Zi]-substitutions[Zo])/divisor,\n",
    "                    (substitutions[Zm]-substitutions[Zi])/divisor,\n",
    "                    (substitutions[Zf]-substitutions[Zm])/divisor],\n",
    "    'height_ratios': [1,1]\n",
    "})\n",
    "axes[0][0].plot(domain, T_z_upper_crust_M2(domain))\n",
    "axes[0][1].plot(domain, T_z_lower_crust_M2(domain))\n",
    "axes[0][2].plot(domain, T_z_mantle_M2(domain))\n",
    "axes[1][0].plot(domain, Q_z_upper_crust_M2(domain))\n",
    "axes[1][1].plot(domain, Q_z_lower_crust_M2(domain))\n",
    "axes[1][2].plot(domain, np.repeat(Q_z_mantle_M2(domain),len(domain)))\n",
    "axes[0][0].set_xlim(substitutions[Zo],substitutions[Zi])\n",
    "axes[0][1].set_xlim(substitutions[Zi],substitutions[Zm])\n",
    "axes[0][2].set_xlim(substitutions[Zm],substitutions[Zf])\n",
    "axes[0][0].set_ylim(0,1300)\n",
    "axes[0][1].set_ylim(0,1300)\n",
    "axes[0][2].set_ylim(0,1300)\n",
    "axes[0][0].set_xticks([])\n",
    "axes[0][1].set_xticks([])\n",
    "axes[0][2].set_xticks([])\n",
    "axes[0][1].set_yticks([])\n",
    "axes[0][2].set_yticks([])\n",
    "axes[1][0].set_xlim(substitutions[Zo],substitutions[Zi])\n",
    "axes[1][1].set_xlim(substitutions[Zi],substitutions[Zm])\n",
    "axes[1][2].set_xlim(substitutions[Zm],substitutions[Zf])\n",
    "axes[1][0].set_ylim(0.0,0.15)\n",
    "axes[1][1].set_ylim(0.0,0.15)\n",
    "axes[1][2].set_ylim(0.0,0.15)\n",
    "axes[1][0].set_xticks([substitutions[Zo]])\n",
    "axes[1][1].set_xticks([substitutions[Zi]])\n",
    "axes[1][2].set_xticks([substitutions[Zm]])\n",
    "axes[1][1].set_yticks([])\n",
    "axes[1][2].set_yticks([])\n",
    "axes[1][0].tick_params('x', labelrotation=90)\n",
    "axes[1][1].tick_params('x', labelrotation=90)\n",
    "axes[1][2].tick_params('x', labelrotation=90)\n",
    "axes[0][0].set_ylabel(\"T(z)\")\n",
    "axes[1][0].set_ylabel(\"Q(z)\")\n",
    "axes[1][0].set_xlabel(\"z\")\n",
    "fig.subplots_adjust(wspace=0.05)"
   ]
  },
  {
   "cell_type": "code",
   "execution_count": 65,
   "metadata": {},
   "outputs": [
    {
     "name": "stdout",
     "output_type": "stream",
     "text": [
      "T_uc(Zi) =  192.0833333333337\n",
      "T_lc(Zi) =  192.08333333333366\n",
      "\n",
      "T_lc(Zm) =  743.7500000000015\n",
      "T_lm(Zm) =  743.75\n",
      "\n",
      "Q_uc(Zi) =  0.049375\n",
      "Q_lc(Zi) =  0.049375\n",
      "\n",
      "Q_lc(Zm) =  0.033375\n",
      "Q_lm(Zm) =  0.033375\n"
     ]
    }
   ],
   "source": [
    "print(\"T_uc(Zi) = \", T_z_upper_crust_M2(substitutions[Zi]))\n",
    "print(\"T_lc(Zi) = \", T_z_lower_crust_M2(substitutions[Zi]))\n",
    "print(\"\")\n",
    "print(\"T_lc(Zm) = \", T_z_lower_crust_M2(substitutions[Zm]))\n",
    "print(\"T_lm(Zm) = \", T_z_mantle_M2(substitutions[Zm]))\n",
    "print(\"\")\n",
    "print(\"Q_uc(Zi) = \", Q_z_upper_crust_M2(substitutions[Zi]))\n",
    "print(\"Q_lc(Zi) = \", Q_z_lower_crust_M2(substitutions[Zi]))\n",
    "print(\"\")\n",
    "print(\"Q_lc(Zm) = \", Q_z_lower_crust_M2(substitutions[Zm]))\n",
    "print(\"Q_lm(Zm) = \", Q_z_mantle_M2(substitutions[Zm]))\n",
    "#print(len(Q_z_upper_crust_M2(domain)))\n",
    "#print(len(Q_z_lower_crust_M2(domain)))\n",
    "#print(len(Q_z_mantle_M2(domain)))"
   ]
  },
  {
   "cell_type": "code",
   "execution_count": 66,
   "metadata": {},
   "outputs": [],
   "source": [
    "# Comparación gráfica de ambos modelos"
   ]
  },
  {
   "cell_type": "code",
   "execution_count": 67,
   "metadata": {},
   "outputs": [
    {
     "data": {
      "image/png": "[encoded data removed]",
      "text/plain": [
       "<Figure size 432x288 with 6 Axes>"
      ]
     },
     "metadata": {
      "needs_background": "light"
     },
     "output_type": "display_data"
    }
   ],
   "source": [
    "divisor = substitutions[Zf]-substitutions[Zm]\n",
    "fig, axes = plt.subplots(nrows=2,ncols=3, gridspec_kw={\n",
    "   'width_ratios': [(substitutions[Zi]-substitutions[Zo])/divisor,\n",
    "                    (substitutions[Zm]-substitutions[Zi])/divisor,\n",
    "                    (substitutions[Zf]-substitutions[Zm])/divisor],\n",
    "    'height_ratios': [1,1]\n",
    "})\n",
    "axes[0][0].plot(domain, T_z_upper_crust_M2(domain))\n",
    "axes[0][0].plot(domain, T_z_crust_M1(domain))\n",
    "axes[0][1].plot(domain, T_z_lower_crust_M2(domain))\n",
    "axes[0][1].plot(domain, T_z_crust_M1(domain))\n",
    "axes[0][2].plot(domain, T_z_mantle_M2(domain))\n",
    "axes[0][2].plot(domain, T_z_mantle_M1(domain))\n",
    "axes[1][0].plot(domain, Q_z_upper_crust_M2(domain))\n",
    "axes[1][0].plot(domain, Q_z_crust_M1(domain))\n",
    "axes[1][1].plot(domain, Q_z_lower_crust_M2(domain))\n",
    "axes[1][1].plot(domain, Q_z_crust_M1(domain))\n",
    "axes[1][2].plot(domain, np.repeat(Q_z_mantle_M2(domain),len(domain)))\n",
    "axes[1][2].plot(domain, np.repeat(Q_z_mantle_M1(domain),len(domain)))\n",
    "axes[0][0].set_xlim(substitutions[Zo],substitutions[Zi])\n",
    "axes[0][1].set_xlim(substitutions[Zi],substitutions[Zm])\n",
    "axes[0][2].set_xlim(substitutions[Zm],substitutions[Zf])\n",
    "axes[0][0].set_ylim(0,1300)\n",
    "axes[0][1].set_ylim(0,1300)\n",
    "axes[0][2].set_ylim(0,1300)\n",
    "axes[0][0].set_xticks([])\n",
    "axes[0][1].set_xticks([])\n",
    "axes[0][2].set_xticks([])\n",
    "axes[0][1].set_yticks([])\n",
    "axes[0][2].set_yticks([])\n",
    "axes[1][0].set_xlim(substitutions[Zo],substitutions[Zi])\n",
    "axes[1][1].set_xlim(substitutions[Zi],substitutions[Zm])\n",
    "axes[1][2].set_xlim(substitutions[Zm],substitutions[Zf])\n",
    "axes[1][0].set_ylim(0.0,0.15)\n",
    "axes[1][1].set_ylim(0.0,0.15)\n",
    "axes[1][2].set_ylim(0.0,0.15)\n",
    "axes[1][0].set_xticks([substitutions[Zo]])\n",
    "axes[1][1].set_xticks([substitutions[Zi]])\n",
    "axes[1][2].set_xticks([substitutions[Zm]])\n",
    "axes[1][1].set_yticks([])\n",
    "axes[1][2].set_yticks([])\n",
    "axes[1][0].tick_params('x', labelrotation=90)\n",
    "axes[1][1].tick_params('x', labelrotation=90)\n",
    "axes[1][2].tick_params('x', labelrotation=90)\n",
    "axes[0][0].set_ylabel(\"T(z)\")\n",
    "axes[1][0].set_ylabel(\"Q(z)\")\n",
    "axes[1][0].set_xlabel(\"z\")\n",
    "fig.subplots_adjust(wspace=0.05)"
   ]
  },
  {
   "cell_type": "markdown",
   "metadata": {},
   "source": [
    "# Variables supuestas en gráficos"
   ]
  },
  {
   "cell_type": "code",
   "execution_count": 68,
   "metadata": {},
   "outputs": [
    {
     "data": {
      "text/latex": [
       "$$H_{0} = 3e-06$$"
      ],
      "text/plain": [
       "<IPython.core.display.Latex object>"
      ]
     },
     "metadata": {},
     "output_type": "display_data"
    },
    {
     "data": {
      "text/latex": [
       "$$k = 3.0$$"
      ],
      "text/plain": [
       "<IPython.core.display.Latex object>"
      ]
     },
     "metadata": {},
     "output_type": "display_data"
    },
    {
     "data": {
      "text/latex": [
       "$$\\delta = 10000.0$$"
      ],
      "text/plain": [
       "<IPython.core.display.Latex object>"
      ]
     },
     "metadata": {},
     "output_type": "display_data"
    },
    {
     "data": {
      "text/latex": [
       "$$Z_{0} = 0$$"
      ],
      "text/plain": [
       "<IPython.core.display.Latex object>"
      ]
     },
     "metadata": {},
     "output_type": "display_data"
    },
    {
     "data": {
      "text/latex": [
       "$$Z_{f} = 100000.0$$"
      ],
      "text/plain": [
       "<IPython.core.display.Latex object>"
      ]
     },
     "metadata": {},
     "output_type": "display_data"
    },
    {
     "data": {
      "text/latex": [
       "$$T_{0} = 0$$"
      ],
      "text/plain": [
       "<IPython.core.display.Latex object>"
      ]
     },
     "metadata": {},
     "output_type": "display_data"
    },
    {
     "data": {
      "text/latex": [
       "$$T_{f} = 1300$$"
      ],
      "text/plain": [
       "<IPython.core.display.Latex object>"
      ]
     },
     "metadata": {},
     "output_type": "display_data"
    },
    {
     "data": {
      "text/latex": [
       "$$Z_{m} = 50000.0$$"
      ],
      "text/plain": [
       "<IPython.core.display.Latex object>"
      ]
     },
     "metadata": {},
     "output_type": "display_data"
    },
    {
     "data": {
      "text/latex": [
       "$$Z_{i} = 10000.0$$"
      ],
      "text/plain": [
       "<IPython.core.display.Latex object>"
      ]
     },
     "metadata": {},
     "output_type": "display_data"
    },
    {
     "data": {
      "text/latex": [
       "$$H_{lc} = 4e-07$$"
      ],
      "text/plain": [
       "<IPython.core.display.Latex object>"
      ]
     },
     "metadata": {},
     "output_type": "display_data"
    },
    {
     "data": {
      "text/latex": [
       "$$H_{uc} = 1.65e-06$$"
      ],
      "text/plain": [
       "<IPython.core.display.Latex object>"
      ]
     },
     "metadata": {},
     "output_type": "display_data"
    }
   ],
   "source": [
    "for key,val in substitutions.items():\n",
    "    result = \"$${} = {}$$\".format(sp.latex(key),val)\n",
    "    display(Latex(result))"
   ]
  },
  {
   "cell_type": "code",
   "execution_count": null,
   "metadata": {},
   "outputs": [],
   "source": []
  }
 ],
 "metadata": {
  "kernelspec": {
   "display_name": "heat_equation",
   "language": "python",
   "name": "heat_equation"
  },
  "language_info": {
   "codemirror_mode": {
    "name": "ipython",
    "version": 3
   },
   "file_extension": ".py",
   "mimetype": "text/x-python",
   "name": "python",
   "nbconvert_exporter": "python",
   "pygments_lexer": "ipython3",
   "version": "3.8.3"
  }
 },
 "nbformat": 4,
 "nbformat_minor": 4
}
